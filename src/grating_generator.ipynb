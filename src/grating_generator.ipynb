{
 "cells": [
  {
   "cell_type": "markdown",
   "id": "71268705",
   "metadata": {},
   "source": [
    "# 可调相移光栅生成器（PNG灰度）\n",
    "\n",
    "- 基于现有代码，支持调整周期 `period`、每步像素位移 `shift_pixels`、生成图片数量 `num_images`。\n",
    "- 支持两种模式：二值光栅（binary）与正弦光栅（sine），均输出 8-bit 灰度 PNG。\n",
    "- 可设置输出尺寸（`width`×`height`）、`gamma`（仅对正弦光栅生效）、以及相位对齐偏移 `phase_offset_px`（像素）。\n",
    "- 支持交互式预览与批量保存。"
   ]
  },
  {
   "cell_type": "code",
   "execution_count": 10,
   "id": "f82681ee",
   "metadata": {},
   "outputs": [
    {
     "name": "stdout",
     "output_type": "stream",
     "text": [
      "输出目录: C:\\localfiles\\uc2dmd\\src\\new_pattern\n"
     ]
    }
   ],
   "source": [
    "# 1. 导入依赖与全局参数\n",
    "import numpy as np\n",
    "from pathlib import Path\n",
    "from PIL import Image\n",
    "import matplotlib.pyplot as plt\n",
    "from typing import List\n",
    "\n",
    "# 交互组件\n",
    "try:\n",
    "    import ipywidgets as widgets\n",
    "    from IPython.display import display, clear_output\n",
    "    _WIDGETS_AVAILABLE = True\n",
    "except Exception:\n",
    "    _WIDGETS_AVAILABLE = False\n",
    "\n",
    "# 默认参数\n",
    "WIDTH = 1280\n",
    "HEIGHT = 720\n",
    "PERIOD = 6\n",
    "SHIFT_PIXELS = 1\n",
    "NUM_IMAGES = 6\n",
    "GAMMA = 1.0\n",
    "PHASE_OFFSET_PX = 0.0\n",
    "OUTPUT_DIR = Path(\"new_pattern\")\n",
    "PREVIEW_COUNT = 3\n",
    "MODE = 'binary'  # 'sine' 或 'binary'\n",
    "\n",
    "OUTPUT_DIR.mkdir(parents=True, exist_ok=True)\n",
    "print(f\"输出目录: {OUTPUT_DIR.resolve()}\")"
   ]
  },
  {
   "cell_type": "code",
   "execution_count": 11,
   "id": "16f6071b",
   "metadata": {},
   "outputs": [
    {
     "name": "stdout",
     "output_type": "stream",
     "text": [
      "提示：未找到 ipywidgets。可通过 pip 安装后使用交互控件： pip install ipywidgets\n"
     ]
    }
   ],
   "source": [
    "# 2. 交互式参数控件（若 ipywidgets 可用）\n",
    "if _WIDGETS_AVAILABLE:\n",
    "    period_w = widgets.IntSlider(description='period', min=2, max=1024, step=1, value=PERIOD)\n",
    "    shift_w = widgets.IntSlider(description='shift_pixels', min=1, max=PERIOD, step=1, value=SHIFT_PIXELS)\n",
    "    num_w = widgets.IntSlider(description='num_images', min=1, max=64, step=1, value=NUM_IMAGES)\n",
    "    width_w = widgets.IntText(description='width', value=WIDTH)\n",
    "    height_w = widgets.IntText(description='height', value=HEIGHT)\n",
    "    gamma_w = widgets.FloatSlider(description='gamma', min=0.1, max=3.0, step=0.1, value=GAMMA)\n",
    "    mode_w = widgets.ToggleButtons(description='mode', options=['binary','sine'], value=MODE)\n",
    "    offset_w = widgets.FloatText(description='phase_offset_px', value=PHASE_OFFSET_PX)\n",
    "    outdir_w = widgets.Text(description='output_dir', value=str(OUTPUT_DIR))\n",
    "    preview_w = widgets.IntSlider(description='preview_count', min=1, max=10, step=1, value=PREVIEW_COUNT)\n",
    "\n",
    "    # 使 shift 的上限跟随 period\n",
    "    def _sync_shift_range(change):\n",
    "        shift_w.max = max(1, int(change['new']))\n",
    "        if shift_w.value > shift_w.max:\n",
    "            shift_w.value = shift_w.max\n",
    "    period_w.observe(_sync_shift_range, names='value')\n",
    "\n",
    "    # 在 binary 模式下禁用 gamma\n",
    "    def _toggle_gamma(change):\n",
    "        gamma_w.disabled = (mode_w.value == 'binary')\n",
    "    mode_w.observe(_toggle_gamma, names='value')\n",
    "    _toggle_gamma(None)\n",
    "\n",
    "    ui = widgets.VBox([\n",
    "        widgets.HBox([period_w, shift_w, num_w, preview_w]),\n",
    "        widgets.HBox([width_w, height_w, gamma_w, mode_w]),\n",
    "        widgets.HBox([offset_w, outdir_w])\n",
    "    ])\n",
    "    display(ui)\n",
    "else:\n",
    "    print(\"提示：未找到 ipywidgets。可通过 pip 安装后使用交互控件： pip install ipywidgets\")"
   ]
  },
  {
   "cell_type": "code",
   "execution_count": 12,
   "id": "390a22ab",
   "metadata": {},
   "outputs": [
    {
     "name": "stdout",
     "output_type": "stream",
     "text": [
      "已定义: generate_binary_grating()\n"
     ]
    }
   ],
   "source": [
    "# 3. 二值光栅生成函数\n",
    "\n",
    "def generate_binary_grating(width: int, height: int, period: int) -> np.ndarray:\n",
    "    if period < 2:\n",
    "        raise ValueError(\"period 必须 ≥ 2\")\n",
    "    row = ((np.arange(width) % period) < (period // 2)).astype(np.uint8) * 255\n",
    "    img = np.repeat(row[np.newaxis, :], height, axis=0)\n",
    "    return img.astype(np.uint8)\n",
    "\n",
    "print(\"已定义: generate_binary_grating()\")"
   ]
  },
  {
   "cell_type": "code",
   "execution_count": 13,
   "id": "4e9354ec",
   "metadata": {},
   "outputs": [
    {
     "name": "stdout",
     "output_type": "stream",
     "text": [
      "已定义: generate_sine_grating()\n"
     ]
    }
   ],
   "source": [
    "# 4. 正弦光栅生成函数（支持 gamma 与相位像素偏移）\n",
    "\n",
    "def generate_sine_grating(width: int, height: int, period: int, gamma: float = 1.0, phase_offset_px: float = 0.0) -> np.ndarray:\n",
    "    if period <= 0:\n",
    "        raise ValueError(\"period 必须 > 0\")\n",
    "    if gamma <= 0:\n",
    "        raise ValueError(\"gamma 必须 > 0\")\n",
    "    x = np.arange(width)\n",
    "    base = 2 * np.pi * x / period - 2 * np.pi * (phase_offset_px / period)\n",
    "    wave = 0.5 + 0.5 * np.cos(base)\n",
    "    if gamma != 1.0:\n",
    "        wave = np.power(wave, 1.0 / gamma)\n",
    "    row = (wave * 255.0 + 0.5).astype(np.uint8)\n",
    "    img = np.repeat(row[np.newaxis, :], height, axis=0)\n",
    "    return img.astype(np.uint8)\n",
    "\n",
    "print(\"已定义: generate_sine_grating()\")"
   ]
  },
  {
   "cell_type": "code",
   "execution_count": 14,
   "id": "a7858651",
   "metadata": {},
   "outputs": [
    {
     "name": "stdout",
     "output_type": "stream",
     "text": [
      "已定义: roll_shift(), generate_sequence()\n"
     ]
    }
   ],
   "source": [
    "# 5. 通用位移与批量生成器\n",
    "\n",
    "def roll_shift(img: np.ndarray, k: int, shift_pixels: int) -> np.ndarray:\n",
    "    return np.roll(img, shift=k*shift_pixels, axis=1)\n",
    "\n",
    "from typing import Literal\n",
    "\n",
    "def generate_sequence(mode: Literal['binary','sine'], width: int, height: int, period: int,\n",
    "                      num_images: int, shift_pixels: int, gamma: float = 1.0, phase_offset_px: float = 0.0):\n",
    "    if mode not in ('binary','sine'):\n",
    "        raise ValueError(\"mode 只能是 'binary' 或 'sine'\")\n",
    "    if width < 1 or height < 1:\n",
    "        raise ValueError(\"width/height 必须 ≥ 1\")\n",
    "    if period < 2:\n",
    "        raise ValueError(\"period 必须 ≥ 2\")\n",
    "    if shift_pixels < 1:\n",
    "        raise ValueError(\"shift_pixels 必须 ≥ 1\")\n",
    "    if num_images < 1:\n",
    "        raise ValueError(\"num_images 必须 ≥ 1\")\n",
    "\n",
    "    if mode == 'binary':\n",
    "        base = generate_binary_grating(width, height, period)\n",
    "    else:\n",
    "        base = generate_sine_grating(width, height, period, gamma=gamma, phase_offset_px=phase_offset_px)\n",
    "\n",
    "    images = [roll_shift(base, k, shift_pixels) for k in range(num_images)]\n",
    "    return images\n",
    "\n",
    "print(\"已定义: roll_shift(), generate_sequence()\")"
   ]
  },
  {
   "cell_type": "code",
   "execution_count": 15,
   "id": "b2fcd385",
   "metadata": {},
   "outputs": [
    {
     "name": "stdout",
     "output_type": "stream",
     "text": [
      "已定义: save_png(), batch_save()\n"
     ]
    }
   ],
   "source": [
    "# 6. PNG 灰度保存与文件命名\n",
    "\n",
    "def save_png(arr: np.ndarray, path: Path):\n",
    "    Image.fromarray(arr, mode='L').save(path, 'PNG')\n",
    "\n",
    "def batch_save(images, output_dir: Path, mode: str, period: int, shift_pixels: int):\n",
    "    output_dir = Path(output_dir)\n",
    "    output_dir.mkdir(parents=True, exist_ok=True)\n",
    "    saved = []\n",
    "    for idx, img in enumerate(images):\n",
    "        name = f\"{mode}_p{period}_s{shift_pixels}_idx{idx:02d}.png\"\n",
    "        p = output_dir / name\n",
    "        save_png(img, p)\n",
    "        saved.append(p)\n",
    "        print(f\"保存: {p}\")\n",
    "    return saved\n",
    "\n",
    "print(\"已定义: save_png(), batch_save()\")"
   ]
  },
  {
   "cell_type": "code",
   "execution_count": 16,
   "id": "d64123a0",
   "metadata": {},
   "outputs": [
    {
     "name": "stdout",
     "output_type": "stream",
     "text": [
      "已定义: preview_images()\n"
     ]
    }
   ],
   "source": [
    "# 7. 预览若干张与水平强度剖面\n",
    "\n",
    "def preview_images(images, period: int, preview_count: int = 3):\n",
    "    n = min(preview_count, len(images))\n",
    "    if n == 0:\n",
    "        print(\"无图片可预览\")\n",
    "        return\n",
    "    fig, axes = plt.subplots(1, n, figsize=(4*n, 3))\n",
    "    if n == 1:\n",
    "        axes = [axes]\n",
    "    for i in range(n):\n",
    "        axes[i].imshow(images[i], cmap='gray', vmin=0, vmax=255)\n",
    "        axes[i].set_title(f\"idx={i}\")\n",
    "        axes[i].axis('off')\n",
    "        # 画周期刻度线\n",
    "        h, w = images[i].shape\n",
    "        for x in range(0, w, period):\n",
    "            axes[i].axvline(x, color='yellow', alpha=0.3, linewidth=0.8)\n",
    "    plt.show()\n",
    "\n",
    "    # 水平剖面（第1张中心行）\n",
    "    img0 = images[0]\n",
    "    y = img0.shape[0] // 2\n",
    "    profile0 = img0[y, :]\n",
    "    plt.figure(figsize=(8,3))\n",
    "    plt.plot(profile0, label='img[0] 中心行')\n",
    "    if len(images) > 1:\n",
    "        plt.plot(images[1][y, :], label='img[1] 中心行')\n",
    "    if len(images) > 2:\n",
    "        plt.plot(images[2][y, :], label='img[2] 中心行')\n",
    "    for x in range(0, img0.shape[1], period):\n",
    "        plt.axvline(x, color='gray', alpha=0.2)\n",
    "    plt.legend()\n",
    "    plt.tight_layout()\n",
    "    plt.show()\n",
    "\n",
    "print(\"已定义: preview_images()\")"
   ]
  },
  {
   "cell_type": "code",
   "execution_count": 17,
   "id": "d34a3f48",
   "metadata": {},
   "outputs": [
    {
     "name": "stdout",
     "output_type": "stream",
     "text": [
      "若需交互控件，请安装 ipywidgets；否则可直接调用 run_generate_and_preview()/run_save()。\n"
     ]
    }
   ],
   "source": [
    "# 8. 参数校验、生成、保存与交互动作\n",
    "\n",
    "def validate_params(width, height, period, shift_pixels, num_images, mode, gamma):\n",
    "    if width < 1 or height < 1:\n",
    "        raise ValueError(\"width/height 必须 ≥ 1\")\n",
    "    if period < 2:\n",
    "        raise ValueError(\"period 必须 ≥ 2\")\n",
    "    if shift_pixels < 1:\n",
    "        raise ValueError(\"shift_pixels 必须 ≥ 1\")\n",
    "    if num_images < 1:\n",
    "        raise ValueError(\"num_images 必须 ≥ 1\")\n",
    "    if mode == 'sine' and gamma <= 0:\n",
    "        raise ValueError(\"正弦模式下 gamma 必须 > 0\")\n",
    "    if shift_pixels % period == 0:\n",
    "        print(\"提示：shift_pixels 是 period 的倍数，所有图片将完全相同。\")\n",
    "\n",
    "\n",
    "def run_generate_and_preview(width=WIDTH, height=HEIGHT, period=PERIOD, num_images=NUM_IMAGES, shift_pixels=SHIFT_PIXELS,\n",
    "                              mode=MODE, gamma=GAMMA, phase_offset_px=PHASE_OFFSET_PX, output_dir=OUTPUT_DIR, preview_count=PREVIEW_COUNT):\n",
    "    validate_params(width, height, period, shift_pixels, num_images, mode, gamma)\n",
    "    imgs = generate_sequence(mode, width, height, period, num_images, shift_pixels, gamma, phase_offset_px)\n",
    "    preview_images(imgs, period, preview_count)\n",
    "    return imgs\n",
    "\n",
    "\n",
    "def run_save(images, output_dir=OUTPUT_DIR, mode=MODE, period=PERIOD, shift_pixels=SHIFT_PIXELS):\n",
    "    return batch_save(images, Path(output_dir), mode, period, shift_pixels)\n",
    "\n",
    "# 若 widgets 可用，绑定按钮\n",
    "actions = {}\n",
    "if _WIDGETS_AVAILABLE:\n",
    "    btn_preview = widgets.Button(description='预览 Preview')\n",
    "    btn_save = widgets.Button(description='保存 Save PNGs')\n",
    "    out = widgets.Output()\n",
    "\n",
    "    def _on_preview(_):\n",
    "        with out:\n",
    "            clear_output(wait=True)\n",
    "            try:\n",
    "                imgs = run_generate_and_preview(\n",
    "                    width=width_w.value,\n",
    "                    height=height_w.value,\n",
    "                    period=period_w.value,\n",
    "                    num_images=num_w.value,\n",
    "                    shift_pixels=shift_w.value,\n",
    "                    mode=mode_w.value,\n",
    "                    gamma=gamma_w.value,\n",
    "                    phase_offset_px=offset_w.value,\n",
    "                    output_dir=outdir_w.value,\n",
    "                    preview_count=preview_w.value,\n",
    "                )\n",
    "                actions['last_images'] = imgs\n",
    "            except Exception as e:\n",
    "                print(\"错误:\", e)\n",
    "\n",
    "    def _on_save(_):\n",
    "        with out:\n",
    "            clear_output(wait=True)\n",
    "            try:\n",
    "                imgs = actions.get('last_images')\n",
    "                if imgs is None:\n",
    "                    print(\"请先点击预览以生成图片，再保存。\")\n",
    "                    return\n",
    "                saved = run_save(\n",
    "                    images=imgs,\n",
    "                    output_dir=outdir_w.value,\n",
    "                    mode=mode_w.value,\n",
    "                    period=period_w.value,\n",
    "                    shift_pixels=shift_w.value\n",
    "                )\n",
    "                print(f\"共保存 {len(saved)} 张。\")\n",
    "            except Exception as e:\n",
    "                print(\"错误:\", e)\n",
    "\n",
    "    btn_preview.on_click(_on_preview)\n",
    "    btn_save.on_click(_on_save)\n",
    "    display(widgets.HBox([btn_preview, btn_save]))\n",
    "    display(out)\n",
    "else:\n",
    "    print(\"若需交互控件，请安装 ipywidgets；否则可直接调用 run_generate_and_preview()/run_save()。\")"
   ]
  },
  {
   "cell_type": "markdown",
   "id": "d52f5fa8",
   "metadata": {},
   "source": [
    "## 使用说明（无小部件环境）\n",
    "\n",
    "- 直接运行下一代码单元，按默认参数生成并预览；修改调用参数以自定义。\n",
    "- 例如：生成 6 张、周期 6、每步平移 1 像素的正弦光栅，并保存到 `new_pattern`。"
   ]
  },
  {
   "cell_type": "code",
   "execution_count": 18,
   "id": "57fa4500",
   "metadata": {},
   "outputs": [
    {
     "data": {
      "image/png": "[encoded data removed]",
      "text/plain": [
       "<Figure size 1200x300 with 3 Axes>"
      ]
     },
     "metadata": {},
     "output_type": "display_data"
    },
    {
     "name": "stderr",
     "output_type": "stream",
     "text": [
      "C:\\Users\\workh\\AppData\\Local\\Temp\\ipykernel_22484\\1770140134.py:34: UserWarning: Glyph 20013 (\\N{CJK UNIFIED IDEOGRAPH-4E2D}) missing from font(s) DejaVu Sans.\n",
      "  plt.tight_layout()\n",
      "C:\\Users\\workh\\AppData\\Local\\Temp\\ipykernel_22484\\1770140134.py:34: UserWarning: Glyph 24515 (\\N{CJK UNIFIED IDEOGRAPH-5FC3}) missing from font(s) DejaVu Sans.\n",
      "  plt.tight_layout()\n",
      "C:\\Users\\workh\\AppData\\Local\\Temp\\ipykernel_22484\\1770140134.py:34: UserWarning: Glyph 34892 (\\N{CJK UNIFIED IDEOGRAPH-884C}) missing from font(s) DejaVu Sans.\n",
      "  plt.tight_layout()\n"
     ]
    },
    {
     "data": {
      "image/png": "[encoded data removed]",
      "text/plain": [
       "<Figure size 800x300 with 1 Axes>"
      ]
     },
     "metadata": {},
     "output_type": "display_data"
    },
    {
     "name": "stdout",
     "output_type": "stream",
     "text": [
      "保存: new_pattern\\binary_p6_s1_idx00.png\n",
      "保存: new_pattern\\binary_p6_s1_idx01.png\n",
      "保存: new_pattern\\binary_p6_s1_idx02.png\n",
      "保存: new_pattern\\binary_p6_s1_idx03.png\n",
      "保存: new_pattern\\binary_p6_s1_idx04.png\n",
      "保存: new_pattern\\binary_p6_s1_idx05.png\n"
     ]
    },
    {
     "name": "stderr",
     "output_type": "stream",
     "text": [
      "C:\\Users\\workh\\AppData\\Local\\Temp\\ipykernel_22484\\1934679625.py:4: DeprecationWarning: 'mode' parameter is deprecated and will be removed in Pillow 13 (2026-10-15)\n",
      "  Image.fromarray(arr, mode='L').save(path, 'PNG')\n"
     ]
    }
   ],
   "source": [
    "# 非交互环境下的一键生成/保存示例\n",
    "imgs = run_generate_and_preview(width=WIDTH, height=HEIGHT, period=PERIOD,\n",
    "                                num_images=NUM_IMAGES, shift_pixels=SHIFT_PIXELS,\n",
    "                                mode=MODE, gamma=GAMMA, phase_offset_px=PHASE_OFFSET_PX,\n",
    "                                output_dir=OUTPUT_DIR, preview_count=PREVIEW_COUNT)\n",
    "_ = run_save(imgs, output_dir=OUTPUT_DIR, mode=MODE, period=PERIOD, shift_pixels=SHIFT_PIXELS)"
   ]
  }
 ],
 "metadata": {
  "kernelspec": {
   "display_name": ".venv",
   "language": "python",
   "name": "python3"
  },
  "language_info": {
   "codemirror_mode": {
    "name": "ipython",
    "version": 3
   },
   "file_extension": ".py",
   "mimetype": "text/x-python",
   "name": "python",
   "nbconvert_exporter": "python",
   "pygments_lexer": "ipython3",
   "version": "3.12.10"
  }
 },
 "nbformat": 4,
 "nbformat_minor": 5
}
