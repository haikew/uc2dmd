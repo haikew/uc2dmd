{
 "cells": [
  {
   "cell_type": "markdown",
   "id": "ec46b0a5",
   "metadata": {},
   "source": [
    "# RGB图片转灰度图 - 图片格式转换\n",
    "\n",
    "这个notebook用于将 `rgb` 文件夹下的RGB图片转换为灰度图，然后保存到 `dmd_fastapi_image` 文件夹中。"
   ]
  },
  {
   "cell_type": "markdown",
   "id": "db2e9fe4",
   "metadata": {},
   "source": [
    "## 1. 导入必要的库"
   ]
  },
  {
   "cell_type": "code",
   "execution_count": 5,
   "id": "465dd398",
   "metadata": {},
   "outputs": [
    {
     "name": "stdout",
     "output_type": "stream",
     "text": [
      "Libraries imported successfully!\n"
     ]
    }
   ],
   "source": [
    "from PIL import Image\n",
    "import os\n",
    "\n",
    "print(\"Libraries imported successfully!\")"
   ]
  },
  {
   "cell_type": "markdown",
   "id": "1e582c25",
   "metadata": {},
   "source": [
    "## 2. 定义输入和输出路径\n",
    "\n",
    "定义从rgb文件夹读取图片，保存到dmd_fastapi_image文件夹"
   ]
  },
  {
   "cell_type": "code",
   "execution_count": 7,
   "id": "0f6cb086",
   "metadata": {},
   "outputs": [
    {
     "name": "stdout",
     "output_type": "stream",
     "text": [
      "✓ 输入文件夹存在: src/dmd_fastapi_image/RGB\n",
      "✓ 找到文件: SIM_grating_phase_1_period_6.png\n",
      "✓ 找到文件: SIM_grating_phase_2_period_6.png\n",
      "✓ 找到文件: SIM_grating_phase_3_period_6.png\n",
      "✓ 输出文件夹: src/dmd_fastapi_image\n"
     ]
    }
   ],
   "source": [
    "# 输入和输出路径设置\n",
    "input_folder = 'src/dmd_fastapi_image/RGB'  # RGB图片所在文件夹\n",
    "output_folder = 'src/dmd_fastapi_image'  # 灰度图保存文件夹\n",
    "\n",
    "# 创建输出文件夹（如果不存在）\n",
    "os.makedirs(output_folder, exist_ok=True)\n",
    "\n",
    "# 定义要处理的图片文件名\n",
    "image_files = [\n",
    "    'SIM_grating_phase_1_period_6.png',\n",
    "    'SIM_grating_phase_2_period_6.png', \n",
    "    'SIM_grating_phase_3_period_6.png'\n",
    "]\n",
    "\n",
    "# 检查输入文件夹和文件是否存在\n",
    "if os.path.exists(input_folder):\n",
    "    print(f\"✓ 输入文件夹存在: {input_folder}\")\n",
    "    \n",
    "    for filename in image_files:\n",
    "        input_path = os.path.join(input_folder, filename)\n",
    "        if os.path.exists(input_path):\n",
    "            print(f\"✓ 找到文件: {filename}\")\n",
    "        else:\n",
    "            print(f\"✗ 文件不存在: {filename}\")\n",
    "else:\n",
    "    print(f\"✗ 输入文件夹不存在: {input_folder}\")\n",
    "\n",
    "print(f\"✓ 输出文件夹: {output_folder}\")"
   ]
  },
  {
   "cell_type": "markdown",
   "id": "164ad4c7",
   "metadata": {},
   "source": [
    "## 3. 转换并保存灰度图\n",
    "\n",
    "从rgb文件夹读取RGB图片，转换为灰度图并保存到dmd_fastapi_image文件夹"
   ]
  },
  {
   "cell_type": "code",
   "execution_count": 8,
   "id": "64a879ff",
   "metadata": {},
   "outputs": [
    {
     "name": "stdout",
     "output_type": "stream",
     "text": [
      "✓ 成功转换并保存: SIM_grating_phase_1_period_6.png\n",
      "  输入: src/dmd_fastapi_image/RGB\\SIM_grating_phase_1_period_6.png\n",
      "  输出: src/dmd_fastapi_image\\SIM_grating_phase_1_period_6.png\n",
      "  图片尺寸: (1280, 720) (宽x高)\n",
      "✓ 成功转换并保存: SIM_grating_phase_2_period_6.png\n",
      "  输入: src/dmd_fastapi_image/RGB\\SIM_grating_phase_2_period_6.png\n",
      "  输出: src/dmd_fastapi_image\\SIM_grating_phase_2_period_6.png\n",
      "  图片尺寸: (1280, 720) (宽x高)\n",
      "✓ 成功转换并保存: SIM_grating_phase_3_period_6.png\n",
      "  输入: src/dmd_fastapi_image/RGB\\SIM_grating_phase_3_period_6.png\n",
      "  输出: src/dmd_fastapi_image\\SIM_grating_phase_3_period_6.png\n",
      "  图片尺寸: (1280, 720) (宽x高)\n",
      "\n",
      "转换完成！成功转换 3/3 张图片。\n"
     ]
    }
   ],
   "source": [
    "# 处理每张图片：读取、转换、保存\n",
    "converted_count = 0\n",
    "\n",
    "for filename in image_files:\n",
    "    input_path = os.path.join(input_folder, filename)\n",
    "    output_path = os.path.join(output_folder, filename)\n",
    "    \n",
    "    try:\n",
    "        # 检查输入文件是否存在\n",
    "        if os.path.exists(input_path):\n",
    "            # 读取RGB图片并转换为灰度图\n",
    "            rgb_image = Image.open(input_path)\n",
    "            grayscale_image = rgb_image.convert('L')\n",
    "            \n",
    "            # 保存灰度图\n",
    "            grayscale_image.save(output_path)\n",
    "            \n",
    "            print(f\"✓ 成功转换并保存: {filename}\")\n",
    "            print(f\"  输入: {input_path}\")\n",
    "            print(f\"  输出: {output_path}\")\n",
    "            print(f\"  图片尺寸: {grayscale_image.size} (宽x高)\")\n",
    "            \n",
    "            converted_count += 1\n",
    "        else:\n",
    "            print(f\"✗ 输入文件不存在: {input_path}\")\n",
    "            \n",
    "    except Exception as e:\n",
    "        print(f\"✗ 处理 {filename} 时出错: {e}\")\n",
    "\n",
    "print(f\"\\n转换完成！成功转换 {converted_count}/{len(image_files)} 张图片。\")"
   ]
  },
  {
   "cell_type": "markdown",
   "id": "097cba33",
   "metadata": {},
   "source": [
    "## 4. 验证保存的灰度图\n",
    "\n",
    "检查保存的灰度图文件信息"
   ]
  },
  {
   "cell_type": "code",
   "execution_count": null,
   "id": "6b0c98b9",
   "metadata": {},
   "outputs": [],
   "source": [
    "# 验证保存的灰度图文件\n",
    "print(\"=== 验证保存的灰度图文件 ===\\n\")\n",
    "\n",
    "for filename in image_files:\n",
    "    output_path = os.path.join(output_folder, filename)\n",
    "    \n",
    "    if os.path.exists(output_path):\n",
    "        # 重新读取保存的灰度图以验证\n",
    "        saved_image = Image.open(output_path)\n",
    "        \n",
    "        print(f\"✓ {filename}\")\n",
    "        print(f\"  路径: {output_path}\")\n",
    "        print(f\"  模式: {saved_image.mode} (L表示灰度图)\")\n",
    "        print(f\"  尺寸: {saved_image.size} (宽x高)\")\n",
    "        print(f\"  格式: {saved_image.format}\")\n",
    "        \n",
    "        # 获取文件大小\n",
    "        file_size = os.path.getsize(output_path)\n",
    "        print(f\"  文件大小: {file_size:,} 字节\")\n",
    "        print()\n",
    "    else:\n",
    "        print(f\"✗ {filename} - 文件未找到: {output_path}\\n\")"
   ]
  },
  {
   "cell_type": "markdown",
   "id": "2c446057",
   "metadata": {},
   "source": [
    "## 5. 测试转换结果\n",
    "\n",
    "测试保存的灰度图是否可以正常使用"
   ]
  },
  {
   "cell_type": "code",
   "execution_count": null,
   "id": "bc7eab14",
   "metadata": {},
   "outputs": [],
   "source": [
    "# 测试保存的灰度图是否可以正常使用\n",
    "print(\"=== 测试转换结果 ===\\n\")\n",
    "\n",
    "# 测试读取保存的灰度图（类似您原始代码的使用方式）\n",
    "test_file = 'SIM_grating_phase_3_period_6.png'\n",
    "test_path = os.path.join(output_folder, test_file)\n",
    "\n",
    "if os.path.exists(test_path):\n",
    "    # 使用与您原始代码相同的方式读取\n",
    "    test_image = Image.open(test_path).convert('L')\n",
    "    print(f\"✓ 成功读取测试图片: {test_file}\")\n",
    "    print(f\"  图片模式: {test_image.mode}\")\n",
    "    print(f\"  图片尺寸: {test_image.size}\")\n",
    "    \n",
    "    # 如果需要，可以转换为numpy数组进行进一步处理\n",
    "    # import numpy as np\n",
    "    # test_array = np.array(test_image)\n",
    "    # print(f\"  数组形状: {test_array.shape}\")\n",
    "    \n",
    "    print(f\"\\n✓ 灰度图转换完成！所有文件已保存到 {output_folder} 文件夹\")\n",
    "else:\n",
    "    print(f\"✗ 测试文件不存在: {test_path}\")\n",
    "\n",
    "print(\"\\n现在您可以在其他程序中使用这些灰度图文件了！\")"
   ]
  }
 ],
 "metadata": {
  "kernelspec": {
   "display_name": ".venv",
   "language": "python",
   "name": "python3"
  },
  "language_info": {
   "codemirror_mode": {
    "name": "ipython",
    "version": 3
   },
   "file_extension": ".py",
   "mimetype": "text/x-python",
   "name": "python",
   "nbconvert_exporter": "python",
   "pygments_lexer": "ipython3",
   "version": "3.12.10"
  }
 },
 "nbformat": 4,
 "nbformat_minor": 5
}
